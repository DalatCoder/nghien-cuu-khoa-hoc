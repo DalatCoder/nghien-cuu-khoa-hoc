{
 "cells": [
  {
   "cell_type": "code",
   "execution_count": 21,
   "metadata": {},
   "outputs": [],
   "source": [
    "import numpy as np \n",
    "import matplotlib.pyplot as plt \n",
    "\n",
    "import torch \n",
    "import torchvision\n",
    "import torch.nn as nn\n",
    "import torch.nn.functional as F\n",
    "import torchvision.transforms as transforms"
   ]
  },
  {
   "cell_type": "code",
   "execution_count": 22,
   "metadata": {},
   "outputs": [],
   "source": [
    "# image processing with pytorhc notebook\n",
    "\n",
    "mean = [0.49159095, 0.48234567, 0.4467194 ]\n",
    "std = [0.23834856, 0.23494388, 0.25271425]"
   ]
  },
  {
   "cell_type": "code",
   "execution_count": 23,
   "metadata": {},
   "outputs": [],
   "source": [
    "train_transform = transforms.Compose([\n",
    "    transforms.Resize(32),\n",
    "    transforms.RandomHorizontalFlip(),\n",
    "    transforms.ToTensor(),\n",
    "    transforms.Normalize(mean, std)\n",
    "])"
   ]
  },
  {
   "cell_type": "code",
   "execution_count": 24,
   "metadata": {},
   "outputs": [],
   "source": [
    "test_transform = transforms.Compose([\n",
    "    transforms.Resize(32),\n",
    "    transforms.ToTensor(),\n",
    "    transforms.Normalize(mean, std)\n",
    "])\n"
   ]
  },
  {
   "cell_type": "code",
   "execution_count": 25,
   "metadata": {},
   "outputs": [
    {
     "name": "stdout",
     "output_type": "stream",
     "text": [
      "Files already downloaded and verified\n"
     ]
    }
   ],
   "source": [
    "trainset = torchvision.datasets.CIFAR10(root='datasets/cifar10/train',\n",
    "                                       train=True,\n",
    "                                       download=True,\n",
    "                                       transform=train_transform)"
   ]
  },
  {
   "cell_type": "code",
   "execution_count": 26,
   "metadata": {},
   "outputs": [
    {
     "name": "stdout",
     "output_type": "stream",
     "text": [
      "Files already downloaded and verified\n"
     ]
    }
   ],
   "source": [
    "testset = torchvision.datasets.CIFAR10(root='datasets/cifar10/train',\n",
    "                                       train=False,\n",
    "                                       download=True,\n",
    "                                       transform=test_transform)"
   ]
  },
  {
   "cell_type": "code",
   "execution_count": 27,
   "metadata": {},
   "outputs": [],
   "source": [
    "trainloader = torch.utils.data.DataLoader(trainset,\n",
    "                                         batch_size=16,\n",
    "                                         shuffle=True,\n",
    "                                         num_workers=2)"
   ]
  },
  {
   "cell_type": "code",
   "execution_count": 28,
   "metadata": {},
   "outputs": [],
   "source": [
    "testloader = torch.utils.data.DataLoader(testset,\n",
    "                                         batch_size=16,\n",
    "                                         shuffle=False,\n",
    "                                         num_workers=2)"
   ]
  },
  {
   "cell_type": "code",
   "execution_count": 29,
   "metadata": {},
   "outputs": [
    {
     "name": "stdout",
     "output_type": "stream",
     "text": [
      "['airplane', 'automobile', 'bird', 'cat', 'deer', 'dog', 'frog', 'horse', 'ship', 'truck']\n"
     ]
    }
   ],
   "source": [
    "class_names = trainset.classes\n",
    "\n",
    "print(class_names)"
   ]
  },
  {
   "cell_type": "code",
   "execution_count": 30,
   "metadata": {},
   "outputs": [],
   "source": [
    "image_batch, labels = iter(trainloader).next()"
   ]
  },
  {
   "cell_type": "code",
   "execution_count": 31,
   "metadata": {},
   "outputs": [
    {
     "data": {
      "text/plain": [
       "(torch.Size([16, 3, 32, 32]), torch.Size([16]))"
      ]
     },
     "execution_count": 31,
     "metadata": {},
     "output_type": "execute_result"
    }
   ],
   "source": [
    "# 16 images in batch, each image is multi-channel (RGB) with 32px height and 32px width\n",
    "# 16 labels correspond to 16 images\n",
    "\n",
    "image_batch.shape, labels.shape"
   ]
  },
  {
   "cell_type": "code",
   "execution_count": 32,
   "metadata": {},
   "outputs": [
    {
     "data": {
      "text/plain": [
       "tensor([1, 6, 0, 1, 3, 4, 4, 0, 0, 5, 5, 8, 4, 6, 0, 3])"
      ]
     },
     "execution_count": 32,
     "metadata": {},
     "output_type": "execute_result"
    }
   ],
   "source": [
    "labels"
   ]
  },
  {
   "cell_type": "code",
   "execution_count": 33,
   "metadata": {},
   "outputs": [],
   "source": [
    "def get_text_label(index):\n",
    "    return trainset.classes[index]"
   ]
  },
  {
   "cell_type": "code",
   "execution_count": 34,
   "metadata": {},
   "outputs": [
    {
     "data": {
      "text/plain": [
       "'airplane'"
      ]
     },
     "execution_count": 34,
     "metadata": {},
     "output_type": "execute_result"
    }
   ],
   "source": [
    "get_text_label(0)"
   ]
  },
  {
   "cell_type": "code",
   "execution_count": 18,
   "metadata": {},
   "outputs": [],
   "source": [
    "in_size = 3 # 3 channels\n",
    "\n",
    "# 2 convolutional layers\n",
    "\n",
    "# first layer generates 16 feature maps\n",
    "hid1_size = 16 \n",
    "\n",
    "# second layer generates 32 feature maps\n",
    "hid2_size = 32\n",
    "\n",
    "\n",
    "# 2 linear layers\n",
    "\n",
    "# Layer 1: 32 x 32 => 28 x 28 => pooling => 14 x 14\n",
    "# Layer 2: 14 x 14 => 10 x 10 => pooling => 5 x 5\n",
    "# 32 x 5 x 5 = 800\n",
    "\n",
    "# first\n",
    "out1_size = 400\n",
    "\n",
    "# second layer correspond to 10 classes: trainset.classes\n",
    "out2_size = 10\n",
    "\n",
    "# 5x5 kernel\n",
    "k_conv_size = 5"
   ]
  },
  {
   "cell_type": "code",
   "execution_count": 39,
   "metadata": {},
   "outputs": [],
   "source": [
    "class ConvNet(nn.Module):\n",
    "    \n",
    "    def __init__(self):\n",
    "        super(ConvNet, self).__init__()\n",
    "        \n",
    "        self.layer1 = nn.Sequential(\n",
    "            nn.Conv2d(in_size, hid1_size, k_conv_size), # 28 x 28\n",
    "            nn.BatchNorm2d(hid1_size),\n",
    "            nn.ReLU(),\n",
    "            nn.MaxPool2d(kernel_size=2)) # 14 x 14\n",
    "        \n",
    "        self.layer2 = nn.Sequential(\n",
    "            nn.Conv2d(hid1_size, hid2_size, k_conv_size), # 10 x 10\n",
    "            nn.BatchNorm2d(hid2_size),\n",
    "            nn.ReLU(),\n",
    "            nn.MaxPool2d(kernel_size=2)) # 5 x 5\n",
    "        \n",
    "        self.layer3 = nn.Sequential(\n",
    "            nn.Linear(hid2_size * k_conv_size * k_conv_size, out1_size),\n",
    "            nn.ReLU(),\n",
    "            # randomly turn of certain neurons,\n",
    "            # forcing other neurons to learn significant features\n",
    "            # mitigate neural network overfitting\n",
    "            nn.Dropout(0.5), # 800 x 0.5 = 400 = out1_size\n",
    "            nn.Linear(out1_size, out2_size))\n",
    "        \n",
    "        \n",
    "    def forward(self, x):\n",
    "        \n",
    "        out = self.layer1(x) \n",
    "        out = self.layer2(out) \n",
    "        \n",
    "        out = out.reshape(out.size(0), -1)\n",
    "        \n",
    "        out = self.layer3(out)\n",
    "        \n",
    "        return F.log_softmax(out, dim=-1)\n",
    "        "
   ]
  },
  {
   "cell_type": "code",
   "execution_count": 40,
   "metadata": {},
   "outputs": [],
   "source": [
    "model = ConvNet()"
   ]
  },
  {
   "cell_type": "code",
   "execution_count": 41,
   "metadata": {},
   "outputs": [
    {
     "name": "stdout",
     "output_type": "stream",
     "text": [
      "cpu\n"
     ]
    }
   ],
   "source": [
    "device = torch.device('cuda:0' if torch.cuda.is_available() else 'cpu')\n",
    "\n",
    "print(device)"
   ]
  },
  {
   "cell_type": "code",
   "execution_count": 42,
   "metadata": {},
   "outputs": [],
   "source": [
    "learning_rate = 0.001 \n",
    "\n",
    "criterion = nn.NLLLoss()\n",
    "\n",
    "optimizer = torch.optim.Adam(model.parameters(), lr=learning_rate)"
   ]
  },
  {
   "cell_type": "code",
   "execution_count": 43,
   "metadata": {},
   "outputs": [],
   "source": [
    "total_step = len(trainloader)\n",
    "num_epochs = 20 \n",
    "loss_values = list()"
   ]
  },
  {
   "cell_type": "code",
   "execution_count": 45,
   "metadata": {},
   "outputs": [
    {
     "name": "stdout",
     "output_type": "stream",
     "text": [
      "Epoch [1/50], Step [2000/3125], Loss 1.0865\n",
      "Epoch [2/50], Step [2000/3125], Loss 1.4900\n",
      "Epoch [3/50], Step [2000/3125], Loss 1.7587\n",
      "Epoch [4/50], Step [2000/3125], Loss 0.9862\n",
      "Epoch [5/50], Step [2000/3125], Loss 1.4726\n",
      "Epoch [6/50], Step [2000/3125], Loss 0.9446\n",
      "Epoch [7/50], Step [2000/3125], Loss 1.2817\n",
      "Epoch [8/50], Step [2000/3125], Loss 0.9755\n",
      "Epoch [9/50], Step [2000/3125], Loss 1.4366\n",
      "Epoch [10/50], Step [2000/3125], Loss 0.7232\n",
      "Epoch [11/50], Step [2000/3125], Loss 0.7291\n",
      "Epoch [12/50], Step [2000/3125], Loss 1.1761\n",
      "Epoch [13/50], Step [2000/3125], Loss 1.1854\n",
      "Epoch [14/50], Step [2000/3125], Loss 0.4442\n",
      "Epoch [15/50], Step [2000/3125], Loss 0.5794\n",
      "Epoch [16/50], Step [2000/3125], Loss 0.8414\n",
      "Epoch [17/50], Step [2000/3125], Loss 0.4972\n",
      "Epoch [18/50], Step [2000/3125], Loss 0.7447\n",
      "Epoch [19/50], Step [2000/3125], Loss 1.0481\n",
      "Epoch [20/50], Step [2000/3125], Loss 0.4927\n",
      "Epoch [21/50], Step [2000/3125], Loss 0.5492\n",
      "Epoch [22/50], Step [2000/3125], Loss 0.3372\n",
      "Epoch [23/50], Step [2000/3125], Loss 0.8606\n",
      "Epoch [24/50], Step [2000/3125], Loss 0.7216\n",
      "Epoch [25/50], Step [2000/3125], Loss 0.4725\n",
      "Epoch [26/50], Step [2000/3125], Loss 0.5232\n",
      "Epoch [27/50], Step [2000/3125], Loss 0.5841\n",
      "Epoch [28/50], Step [2000/3125], Loss 1.5335\n",
      "Epoch [29/50], Step [2000/3125], Loss 0.7225\n",
      "Epoch [30/50], Step [2000/3125], Loss 1.0289\n",
      "Epoch [31/50], Step [2000/3125], Loss 0.5972\n",
      "Epoch [32/50], Step [2000/3125], Loss 0.4330\n",
      "Epoch [33/50], Step [2000/3125], Loss 1.0230\n",
      "Epoch [34/50], Step [2000/3125], Loss 0.8830\n",
      "Epoch [35/50], Step [2000/3125], Loss 0.6237\n",
      "Epoch [36/50], Step [2000/3125], Loss 0.6529\n",
      "Epoch [37/50], Step [2000/3125], Loss 0.4114\n",
      "Epoch [38/50], Step [2000/3125], Loss 0.6979\n",
      "Epoch [39/50], Step [2000/3125], Loss 0.3966\n",
      "Epoch [40/50], Step [2000/3125], Loss 0.7128\n",
      "Epoch [41/50], Step [2000/3125], Loss 0.5414\n",
      "Epoch [42/50], Step [2000/3125], Loss 0.4954\n",
      "Epoch [43/50], Step [2000/3125], Loss 0.2534\n",
      "Epoch [44/50], Step [2000/3125], Loss 1.2035\n",
      "Epoch [45/50], Step [2000/3125], Loss 0.5785\n",
      "Epoch [46/50], Step [2000/3125], Loss 0.3090\n",
      "Epoch [47/50], Step [2000/3125], Loss 0.6409\n",
      "Epoch [48/50], Step [2000/3125], Loss 0.5953\n",
      "Epoch [49/50], Step [2000/3125], Loss 0.1545\n",
      "Epoch [50/50], Step [2000/3125], Loss 0.5295\n",
      "Finished Training\n"
     ]
    }
   ],
   "source": [
    "for epoch in range(num_epochs):\n",
    "    \n",
    "    # loop over every image in batch\n",
    "    for i, (images, labels) in enumerate(trainloader):\n",
    "        \n",
    "        outputs = model(images)\n",
    "        loss = criterion(outputs, labels)\n",
    "        \n",
    "        optimizer.zero_grad()\n",
    "        loss.backward()\n",
    "        optimizer.step()\n",
    "        \n",
    "        if (i + 1) % 2000 == 0:\n",
    "            print('Epoch [{}/{}], Step [{}/{}], Loss {:.4f}'\n",
    "                .format(epoch + 1, num_epochs, i+1, total_step, loss.item()))\n",
    "            \n",
    "            loss_values.append(loss.item())\n",
    "            \n",
    "print('Finished Training')"
   ]
  },
  {
   "cell_type": "code",
   "execution_count": 47,
   "metadata": {},
   "outputs": [
    {
     "data": {
      "text/plain": [
       "Text(0, 0.5, 'Loss')"
      ]
     },
     "execution_count": 47,
     "metadata": {},
     "output_type": "execute_result"
    },
    {
     "data": {
      "image/png": "[encoded data removed]",
      "text/plain": [
       "<Figure size 864x720 with 1 Axes>"
      ]
     },
     "metadata": {
      "needs_background": "light"
     },
     "output_type": "display_data"
    }
   ],
   "source": [
    "x = (range(1, num_epochs+1))\n",
    "\n",
    "plt.figure(figsize=(12, 10))\n",
    "\n",
    "plt.plot(x, loss_values)\n",
    "plt.xlabel('Step')\n",
    "plt.ylabel('Loss')"
   ]
  },
  {
   "cell_type": "code",
   "execution_count": 48,
   "metadata": {},
   "outputs": [
    {
     "data": {
      "text/plain": [
       "ConvNet(\n",
       "  (layer1): Sequential(\n",
       "    (0): Conv2d(3, 16, kernel_size=(5, 5), stride=(1, 1))\n",
       "    (1): BatchNorm2d(16, eps=1e-05, momentum=0.1, affine=True, track_running_stats=True)\n",
       "    (2): ReLU()\n",
       "    (3): MaxPool2d(kernel_size=2, stride=2, padding=0, dilation=1, ceil_mode=False)\n",
       "  )\n",
       "  (layer2): Sequential(\n",
       "    (0): Conv2d(16, 32, kernel_size=(5, 5), stride=(1, 1))\n",
       "    (1): BatchNorm2d(32, eps=1e-05, momentum=0.1, affine=True, track_running_stats=True)\n",
       "    (2): ReLU()\n",
       "    (3): MaxPool2d(kernel_size=2, stride=2, padding=0, dilation=1, ceil_mode=False)\n",
       "  )\n",
       "  (layer3): Sequential(\n",
       "    (0): Linear(in_features=800, out_features=400, bias=True)\n",
       "    (1): ReLU()\n",
       "    (2): Dropout(p=0.5, inplace=False)\n",
       "    (3): Linear(in_features=400, out_features=10, bias=True)\n",
       "  )\n",
       ")"
      ]
     },
     "execution_count": 48,
     "metadata": {},
     "output_type": "execute_result"
    }
   ],
   "source": [
    "model.eval()"
   ]
  },
  {
   "cell_type": "code",
   "execution_count": 50,
   "metadata": {},
   "outputs": [
    {
     "name": "stdout",
     "output_type": "stream",
     "text": [
      "Accuracy of the model on 10000 test images: 76.63%\n"
     ]
    }
   ],
   "source": [
    "with torch.no_grad():\n",
    "    correct = 0\n",
    "    total = 0\n",
    "    \n",
    "    for images, labels in testloader:\n",
    "        \n",
    "        outputs = model(images)\n",
    "        \n",
    "        _, predicted = torch.max(outputs.data, 1)\n",
    "        total += labels.size(0)\n",
    "        correct += (predicted == labels).sum().item()\n",
    "        \n",
    "    print('Accuracy of the model on 10000 test images: {}%'\n",
    "             .format(100 * correct / total))"
   ]
  },
  {
   "cell_type": "code",
   "execution_count": 51,
   "metadata": {},
   "outputs": [],
   "source": [
    "sample_images, sample_labels = testset[23]"
   ]
  },
  {
   "cell_type": "code",
   "execution_count": 52,
   "metadata": {},
   "outputs": [
    {
     "data": {
      "text/plain": [
       "torch.Size([3, 32, 32])"
      ]
     },
     "execution_count": 52,
     "metadata": {},
     "output_type": "execute_result"
    }
   ],
   "source": [
    "sample_images.shape"
   ]
  },
  {
   "cell_type": "code",
   "execution_count": 53,
   "metadata": {},
   "outputs": [
    {
     "data": {
      "text/plain": [
       "torch.Size([32, 32, 3])"
      ]
     },
     "execution_count": 53,
     "metadata": {},
     "output_type": "execute_result"
    }
   ],
   "source": [
    "sample_image = np.transpose(sample_images, (1, 2, 0))\n",
    "sample_image.shape"
   ]
  },
  {
   "cell_type": "code",
   "execution_count": 55,
   "metadata": {},
   "outputs": [],
   "source": [
    "m, M = sample_image.min(), sample_image.max()"
   ]
  },
  {
   "cell_type": "code",
   "execution_count": 56,
   "metadata": {},
   "outputs": [],
   "source": [
    "sample_image = (1/(abs(m) * M)) * sample_image + 0.5"
   ]
  },
  {
   "cell_type": "code",
   "execution_count": 57,
   "metadata": {},
   "outputs": [
    {
     "data": {
      "text/plain": [
       "<matplotlib.image.AxesImage at 0x7f0dc6ce5730>"
      ]
     },
     "execution_count": 57,
     "metadata": {},
     "output_type": "execute_result"
    },
    {
     "data": {
      "image/png": "[encoded data removed]",
      "text/plain": [
       "<Figure size 432x432 with 1 Axes>"
      ]
     },
     "metadata": {
      "needs_background": "light"
     },
     "output_type": "display_data"
    }
   ],
   "source": [
    "plt.figure(figsize=(6,6))\n",
    "plt.imshow(sample_image)"
   ]
  },
  {
   "cell_type": "code",
   "execution_count": 58,
   "metadata": {},
   "outputs": [],
   "source": [
    "test_img, test_label = testset[23]\n",
    "\n",
    "test_img = test_img.reshape(-1, 3, 32, 32)"
   ]
  },
  {
   "cell_type": "code",
   "execution_count": 59,
   "metadata": {},
   "outputs": [],
   "source": [
    "out_predicted = model(test_img)\n",
    "_, predicted = torch.max(out_predicted.data, 1)"
   ]
  },
  {
   "cell_type": "code",
   "execution_count": 60,
   "metadata": {},
   "outputs": [
    {
     "name": "stdout",
     "output_type": "stream",
     "text": [
      "Actual label:  truck\n"
     ]
    }
   ],
   "source": [
    "print('Actual label: ', get_text_label(test_label))"
   ]
  },
  {
   "cell_type": "code",
   "execution_count": 61,
   "metadata": {},
   "outputs": [
    {
     "name": "stdout",
     "output_type": "stream",
     "text": [
      "Predicted label:  truck\n"
     ]
    }
   ],
   "source": [
    "print('Predicted label: ', get_text_label(predicted.item()))"
   ]
  },
  {
   "cell_type": "code",
   "execution_count": null,
   "metadata": {},
   "outputs": [],
   "source": []
  },
  {
   "cell_type": "code",
   "execution_count": null,
   "metadata": {},
   "outputs": [],
   "source": []
  },
  {
   "cell_type": "code",
   "execution_count": null,
   "metadata": {},
   "outputs": [],
   "source": []
  },
  {
   "cell_type": "code",
   "execution_count": null,
   "metadata": {},
   "outputs": [],
   "source": []
  },
  {
   "cell_type": "code",
   "execution_count": null,
   "metadata": {},
   "outputs": [],
   "source": []
  },
  {
   "cell_type": "code",
   "execution_count": null,
   "metadata": {},
   "outputs": [],
   "source": []
  }
 ],
 "metadata": {
  "kernelspec": {
   "display_name": "Python 3",
   "language": "python",
   "name": "python3"
  },
  "language_info": {
   "codemirror_mode": {
    "name": "ipython",
    "version": 3
   },
   "file_extension": ".py",
   "mimetype": "text/x-python",
   "name": "python",
   "nbconvert_exporter": "python",
   "pygments_lexer": "ipython3",
   "version": "3.8.5"
  }
 },
 "nbformat": 4,
 "nbformat_minor": 4
}
