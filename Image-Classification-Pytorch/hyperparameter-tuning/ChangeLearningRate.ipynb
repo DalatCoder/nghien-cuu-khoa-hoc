{
 "cells": [
  {
   "cell_type": "code",
   "execution_count": 1,
   "metadata": {},
   "outputs": [],
   "source": [
    "import pandas as pd \n",
    "import numpy as np \n",
    "import matplotlib.pyplot as plt \n",
    "\n",
    "\n",
    "import torch \n",
    "import torchvision"
   ]
  },
  {
   "cell_type": "code",
   "execution_count": 2,
   "metadata": {},
   "outputs": [],
   "source": [
    "mnist_train = pd.read_csv('../datasets/mnist/train.csv')\n",
    "mnist_test = pd.read_csv('../datasets/mnist/test.csv')"
   ]
  },
  {
   "cell_type": "code",
   "execution_count": 3,
   "metadata": {},
   "outputs": [
    {
     "data": {
      "text/html": [
       "<div>\n",
       "<style scoped>\n",
       "    .dataframe tbody tr th:only-of-type {\n",
       "        vertical-align: middle;\n",
       "    }\n",
       "\n",
       "    .dataframe tbody tr th {\n",
       "        vertical-align: top;\n",
       "    }\n",
       "\n",
       "    .dataframe thead th {\n",
       "        text-align: right;\n",
       "    }\n",
       "</style>\n",
       "<table border=\"1\" class=\"dataframe\">\n",
       "  <thead>\n",
       "    <tr style=\"text-align: right;\">\n",
       "      <th></th>\n",
       "      <th>label</th>\n",
       "      <th>1x1</th>\n",
       "      <th>1x2</th>\n",
       "      <th>1x3</th>\n",
       "      <th>1x4</th>\n",
       "      <th>1x5</th>\n",
       "      <th>1x6</th>\n",
       "      <th>1x7</th>\n",
       "      <th>1x8</th>\n",
       "      <th>1x9</th>\n",
       "      <th>...</th>\n",
       "      <th>28x19</th>\n",
       "      <th>28x20</th>\n",
       "      <th>28x21</th>\n",
       "      <th>28x22</th>\n",
       "      <th>28x23</th>\n",
       "      <th>28x24</th>\n",
       "      <th>28x25</th>\n",
       "      <th>28x26</th>\n",
       "      <th>28x27</th>\n",
       "      <th>28x28</th>\n",
       "    </tr>\n",
       "  </thead>\n",
       "  <tbody>\n",
       "    <tr>\n",
       "      <th>0</th>\n",
       "      <td>5</td>\n",
       "      <td>0</td>\n",
       "      <td>0</td>\n",
       "      <td>0</td>\n",
       "      <td>0</td>\n",
       "      <td>0</td>\n",
       "      <td>0</td>\n",
       "      <td>0</td>\n",
       "      <td>0</td>\n",
       "      <td>0</td>\n",
       "      <td>...</td>\n",
       "      <td>0</td>\n",
       "      <td>0</td>\n",
       "      <td>0</td>\n",
       "      <td>0</td>\n",
       "      <td>0</td>\n",
       "      <td>0</td>\n",
       "      <td>0</td>\n",
       "      <td>0</td>\n",
       "      <td>0</td>\n",
       "      <td>0</td>\n",
       "    </tr>\n",
       "    <tr>\n",
       "      <th>1</th>\n",
       "      <td>0</td>\n",
       "      <td>0</td>\n",
       "      <td>0</td>\n",
       "      <td>0</td>\n",
       "      <td>0</td>\n",
       "      <td>0</td>\n",
       "      <td>0</td>\n",
       "      <td>0</td>\n",
       "      <td>0</td>\n",
       "      <td>0</td>\n",
       "      <td>...</td>\n",
       "      <td>0</td>\n",
       "      <td>0</td>\n",
       "      <td>0</td>\n",
       "      <td>0</td>\n",
       "      <td>0</td>\n",
       "      <td>0</td>\n",
       "      <td>0</td>\n",
       "      <td>0</td>\n",
       "      <td>0</td>\n",
       "      <td>0</td>\n",
       "    </tr>\n",
       "    <tr>\n",
       "      <th>2</th>\n",
       "      <td>4</td>\n",
       "      <td>0</td>\n",
       "      <td>0</td>\n",
       "      <td>0</td>\n",
       "      <td>0</td>\n",
       "      <td>0</td>\n",
       "      <td>0</td>\n",
       "      <td>0</td>\n",
       "      <td>0</td>\n",
       "      <td>0</td>\n",
       "      <td>...</td>\n",
       "      <td>0</td>\n",
       "      <td>0</td>\n",
       "      <td>0</td>\n",
       "      <td>0</td>\n",
       "      <td>0</td>\n",
       "      <td>0</td>\n",
       "      <td>0</td>\n",
       "      <td>0</td>\n",
       "      <td>0</td>\n",
       "      <td>0</td>\n",
       "    </tr>\n",
       "    <tr>\n",
       "      <th>3</th>\n",
       "      <td>1</td>\n",
       "      <td>0</td>\n",
       "      <td>0</td>\n",
       "      <td>0</td>\n",
       "      <td>0</td>\n",
       "      <td>0</td>\n",
       "      <td>0</td>\n",
       "      <td>0</td>\n",
       "      <td>0</td>\n",
       "      <td>0</td>\n",
       "      <td>...</td>\n",
       "      <td>0</td>\n",
       "      <td>0</td>\n",
       "      <td>0</td>\n",
       "      <td>0</td>\n",
       "      <td>0</td>\n",
       "      <td>0</td>\n",
       "      <td>0</td>\n",
       "      <td>0</td>\n",
       "      <td>0</td>\n",
       "      <td>0</td>\n",
       "    </tr>\n",
       "    <tr>\n",
       "      <th>4</th>\n",
       "      <td>9</td>\n",
       "      <td>0</td>\n",
       "      <td>0</td>\n",
       "      <td>0</td>\n",
       "      <td>0</td>\n",
       "      <td>0</td>\n",
       "      <td>0</td>\n",
       "      <td>0</td>\n",
       "      <td>0</td>\n",
       "      <td>0</td>\n",
       "      <td>...</td>\n",
       "      <td>0</td>\n",
       "      <td>0</td>\n",
       "      <td>0</td>\n",
       "      <td>0</td>\n",
       "      <td>0</td>\n",
       "      <td>0</td>\n",
       "      <td>0</td>\n",
       "      <td>0</td>\n",
       "      <td>0</td>\n",
       "      <td>0</td>\n",
       "    </tr>\n",
       "  </tbody>\n",
       "</table>\n",
       "<p>5 rows × 785 columns</p>\n",
       "</div>"
      ],
      "text/plain": [
       "   label  1x1  1x2  1x3  1x4  1x5  1x6  1x7  1x8  1x9  ...  28x19  28x20  \\\n",
       "0      5    0    0    0    0    0    0    0    0    0  ...      0      0   \n",
       "1      0    0    0    0    0    0    0    0    0    0  ...      0      0   \n",
       "2      4    0    0    0    0    0    0    0    0    0  ...      0      0   \n",
       "3      1    0    0    0    0    0    0    0    0    0  ...      0      0   \n",
       "4      9    0    0    0    0    0    0    0    0    0  ...      0      0   \n",
       "\n",
       "   28x21  28x22  28x23  28x24  28x25  28x26  28x27  28x28  \n",
       "0      0      0      0      0      0      0      0      0  \n",
       "1      0      0      0      0      0      0      0      0  \n",
       "2      0      0      0      0      0      0      0      0  \n",
       "3      0      0      0      0      0      0      0      0  \n",
       "4      0      0      0      0      0      0      0      0  \n",
       "\n",
       "[5 rows x 785 columns]"
      ]
     },
     "execution_count": 3,
     "metadata": {},
     "output_type": "execute_result"
    }
   ],
   "source": [
    "mnist_train.head()"
   ]
  },
  {
   "cell_type": "markdown",
   "metadata": {},
   "source": [
    "Drop columns which have missing value"
   ]
  },
  {
   "cell_type": "code",
   "execution_count": 4,
   "metadata": {},
   "outputs": [],
   "source": [
    "mnist_train = mnist_train.dropna()\n",
    "mnist_test = mnist_test.dropna()"
   ]
  },
  {
   "cell_type": "code",
   "execution_count": 5,
   "metadata": {},
   "outputs": [
    {
     "data": {
      "text/plain": [
       "(8, 785)"
      ]
     },
     "execution_count": 5,
     "metadata": {},
     "output_type": "execute_result"
    }
   ],
   "source": [
    "random_sample = mnist_train.sample(8)\n",
    "random_sample.shape "
   ]
  },
  {
   "cell_type": "code",
   "execution_count": 6,
   "metadata": {},
   "outputs": [
    {
     "data": {
      "text/plain": [
       "(8, 784)"
      ]
     },
     "execution_count": 6,
     "metadata": {},
     "output_type": "execute_result"
    }
   ],
   "source": [
    "image_features = random_sample.drop('label', axis=1)\n",
    "image_features.shape"
   ]
  },
  {
   "cell_type": "code",
   "execution_count": 7,
   "metadata": {},
   "outputs": [
    {
     "data": {
      "text/plain": [
       "torch.Size([8, 28, 28])"
      ]
     },
     "execution_count": 7,
     "metadata": {},
     "output_type": "execute_result"
    }
   ],
   "source": [
    "# 8 images, each image have 28px width and 28px height\n",
    "\n",
    "image_batch = (torch.Tensor(image_features.values / 255)).reshape(-1, 28, 28)\n",
    "image_batch.shape"
   ]
  },
  {
   "cell_type": "code",
   "execution_count": 8,
   "metadata": {},
   "outputs": [
    {
     "data": {
      "text/plain": [
       "torch.Size([8, 1, 28, 28])"
      ]
     },
     "execution_count": 8,
     "metadata": {},
     "output_type": "execute_result"
    }
   ],
   "source": [
    "# 8 images in batch, each image have 1 channel, 28px width and 28px height\n",
    "\n",
    "image_batch = image_batch.unsqueeze(1)\n",
    "image_batch.shape "
   ]
  },
  {
   "cell_type": "code",
   "execution_count": 9,
   "metadata": {},
   "outputs": [
    {
     "data": {
      "text/plain": [
       "torch.Size([3, 32, 242])"
      ]
     },
     "execution_count": 9,
     "metadata": {},
     "output_type": "execute_result"
    }
   ],
   "source": [
    "# grid convert 8 images to 3 channels\n",
    "\n",
    "grid = torchvision.utils.make_grid(image_batch, nrow=8)\n",
    "grid.shape "
   ]
  },
  {
   "cell_type": "code",
   "execution_count": 10,
   "metadata": {},
   "outputs": [
    {
     "data": {
      "text/plain": [
       "(-0.5, 241.5, 31.5, -0.5)"
      ]
     },
     "execution_count": 10,
     "metadata": {},
     "output_type": "execute_result"
    },
    {
     "data": {
      "image/png": "[encoded data removed]",
      "text/plain": [
       "<Figure size 864x864 with 1 Axes>"
      ]
     },
     "metadata": {
      "needs_background": "light"
     },
     "output_type": "display_data"
    }
   ],
   "source": [
    "plt.figure(figsize=(12, 12))\n",
    "plt.imshow(grid.numpy().transpose((1, 2, 0))) # plt expect channel dimension at the last dimension\n",
    "plt.axis('off')"
   ]
  },
  {
   "cell_type": "code",
   "execution_count": 11,
   "metadata": {},
   "outputs": [],
   "source": [
    "mnist_train_features = mnist_train.drop('label', axis=1)\n",
    "mnist_train_target = mnist_train['label']\n",
    "\n",
    "mnist_test_features = mnist_test.drop('label', axis=1)\n",
    "mnist_test_target = mnist_test['label']"
   ]
  },
  {
   "cell_type": "code",
   "execution_count": 12,
   "metadata": {},
   "outputs": [],
   "source": [
    "X_train_tensor = torch.tensor(mnist_train_features.values, dtype=torch.float)\n",
    "x_test_tensor = torch.tensor(mnist_test_features.values, dtype=torch.float)\n",
    "\n",
    "Y_train_tensor = torch.tensor(mnist_train_target.values, dtype=torch.long)\n",
    "y_test_tensor = torch.tensor(mnist_test_target.values, dtype=torch.long)"
   ]
  },
  {
   "cell_type": "code",
   "execution_count": 13,
   "metadata": {},
   "outputs": [
    {
     "name": "stdout",
     "output_type": "stream",
     "text": [
      "torch.Size([60000, 784])\n",
      "torch.Size([60000])\n",
      "torch.Size([10000, 784])\n",
      "torch.Size([10000])\n"
     ]
    }
   ],
   "source": [
    "print(X_train_tensor.shape)\n",
    "print(Y_train_tensor.shape)\n",
    "\n",
    "print(x_test_tensor.shape)\n",
    "print(y_test_tensor.shape)"
   ]
  },
  {
   "cell_type": "code",
   "execution_count": 14,
   "metadata": {},
   "outputs": [],
   "source": [
    "X_train_tensor = X_train_tensor.reshape(-1, 1, 28, 28)\n",
    "\n",
    "x_test_tensor = x_test_tensor.reshape(-1, 1, 28, 28)"
   ]
  },
  {
   "cell_type": "code",
   "execution_count": 15,
   "metadata": {},
   "outputs": [
    {
     "name": "stdout",
     "output_type": "stream",
     "text": [
      "torch.Size([60000, 1, 28, 28])\n",
      "torch.Size([10000, 1, 28, 28])\n"
     ]
    }
   ],
   "source": [
    "print(X_train_tensor.shape)\n",
    "print(x_test_tensor.shape)"
   ]
  },
  {
   "cell_type": "code",
   "execution_count": 16,
   "metadata": {},
   "outputs": [],
   "source": [
    "import torch.nn as nn \n",
    "import torch.nn.functional as F"
   ]
  },
  {
   "cell_type": "code",
   "execution_count": 17,
   "metadata": {},
   "outputs": [],
   "source": [
    "in_size = 1 # number of channels in the input image (grayscale)\n",
    "# in_size = 3 : RGB image\n",
    "\n",
    "# the number of feature maps generated by each convolutional layer\n",
    "hid1_size = 16 \n",
    "hid2_size = 32 \n",
    "\n",
    "# 10 image to classify: number 0, 1, 2, 3, 4, 5, 6, 7, 8, 9\n",
    "out_size = 10\n",
    "\n",
    "# square kernel with 5px width and 5px height\n",
    "k_conv_size = 5"
   ]
  },
  {
   "cell_type": "code",
   "execution_count": 18,
   "metadata": {},
   "outputs": [],
   "source": [
    "class ConvNet(nn.Module):\n",
    "\n",
    "    def __init__(self):\n",
    "        super(ConvNet, self).__init__()\n",
    "\n",
    "        self.layer1 = nn.Sequential(\n",
    "            nn.Conv2d(in_size, hid1_size, k_conv_size),\n",
    "            nn.BatchNorm2d(hid1_size),\n",
    "            nn.ReLU(),\n",
    "            nn.MaxPool2d(kernel_size=2))\n",
    "\n",
    "        self.layer2 = nn.Sequential(\n",
    "            nn.Conv2d(hid1_size, hid2_size, k_conv_size),\n",
    "            nn.BatchNorm2d(hid2_size),\n",
    "            nn.ReLU(),\n",
    "            nn.MaxPool2d(kernel_size=2))\n",
    "\n",
    "        # 512 based on our input image size and the strides and the kernel size that we have chosen for our convolution\n",
    "        # using the formula that we had discussed earlier\n",
    "        self.fc = nn.Linear(512, out_size )\n",
    "\n",
    "    def forward(self, x):\n",
    "\n",
    "        out = self.layer1(x)\n",
    "        print(out.shape)\n",
    "\n",
    "        out = self.layer2(out)\n",
    "        print(out.shape)\n",
    "\n",
    "        # Convert to 1-D tensor\n",
    "        out = out.reshape(out.size(0), -1)\n",
    "        print(out.shape)\n",
    "\n",
    "        out = self.fc(out)\n",
    "        print(out.shape)\n",
    "        \n",
    "        return out"
   ]
  },
  {
   "cell_type": "code",
   "execution_count": 19,
   "metadata": {},
   "outputs": [],
   "source": [
    "model = ConvNet()"
   ]
  },
  {
   "cell_type": "code",
   "execution_count": 20,
   "metadata": {},
   "outputs": [
    {
     "name": "stdout",
     "output_type": "stream",
     "text": [
      "cpu\n"
     ]
    }
   ],
   "source": [
    "device = torch.device('cuda:0' if torch.cuda.is_available() else 'cpu')\n",
    "print(device)"
   ]
  },
  {
   "cell_type": "code",
   "execution_count": 21,
   "metadata": {},
   "outputs": [
    {
     "data": {
      "text/plain": [
       "ConvNet(\n",
       "  (layer1): Sequential(\n",
       "    (0): Conv2d(1, 16, kernel_size=(5, 5), stride=(1, 1))\n",
       "    (1): BatchNorm2d(16, eps=1e-05, momentum=0.1, affine=True, track_running_stats=True)\n",
       "    (2): ReLU()\n",
       "    (3): MaxPool2d(kernel_size=2, stride=2, padding=0, dilation=1, ceil_mode=False)\n",
       "  )\n",
       "  (layer2): Sequential(\n",
       "    (0): Conv2d(16, 32, kernel_size=(5, 5), stride=(1, 1))\n",
       "    (1): BatchNorm2d(32, eps=1e-05, momentum=0.1, affine=True, track_running_stats=True)\n",
       "    (2): ReLU()\n",
       "    (3): MaxPool2d(kernel_size=2, stride=2, padding=0, dilation=1, ceil_mode=False)\n",
       "  )\n",
       "  (fc): Linear(in_features=512, out_features=10, bias=True)\n",
       ")"
      ]
     },
     "execution_count": 21,
     "metadata": {},
     "output_type": "execute_result"
    }
   ],
   "source": [
    "model.to(device)"
   ]
  },
  {
   "cell_type": "code",
   "execution_count": 22,
   "metadata": {},
   "outputs": [],
   "source": [
    "X_train_tensor = X_train_tensor.to(device)\n",
    "x_test_tensor = x_test_tensor.to(device)\n",
    "\n",
    "Y_train_tensor = Y_train_tensor.to(device)\n",
    "y_test_tensor = y_test_tensor.to(device)"
   ]
  },
  {
   "cell_type": "code",
   "execution_count": 23,
   "metadata": {},
   "outputs": [],
   "source": [
    "learning_rate = 0.01"
   ]
  },
  {
   "cell_type": "code",
   "execution_count": 24,
   "metadata": {},
   "outputs": [],
   "source": [
    "# Loss function \n",
    "criterion = nn.CrossEntropyLoss()"
   ]
  },
  {
   "cell_type": "code",
   "execution_count": 25,
   "metadata": {},
   "outputs": [],
   "source": [
    "optimizer = torch.optim.Adam(model.parameters(), lr=learning_rate)"
   ]
  },
  {
   "cell_type": "code",
   "execution_count": 26,
   "metadata": {},
   "outputs": [],
   "source": [
    "num_epochs = 50\n",
    "loss_values = list()"
   ]
  },
  {
   "cell_type": "code",
   "execution_count": 27,
   "metadata": {},
   "outputs": [
    {
     "name": "stdout",
     "output_type": "stream",
     "text": [
      "torch.Size([60000, 16, 12, 12])\n",
      "torch.Size([60000, 32, 4, 4])\n",
      "torch.Size([60000, 512])\n",
      "torch.Size([60000, 10])\n",
      "Epoch - 1, loss - 2.49881 \n",
      "torch.Size([60000, 16, 12, 12])\n",
      "torch.Size([60000, 32, 4, 4])\n",
      "torch.Size([60000, 512])\n",
      "torch.Size([60000, 10])\n",
      "Epoch - 2, loss - 3.46276 \n",
      "torch.Size([60000, 16, 12, 12])\n",
      "torch.Size([60000, 32, 4, 4])\n",
      "torch.Size([60000, 512])\n",
      "torch.Size([60000, 10])\n",
      "Epoch - 3, loss - 2.09628 \n",
      "torch.Size([60000, 16, 12, 12])\n",
      "torch.Size([60000, 32, 4, 4])\n",
      "torch.Size([60000, 512])\n",
      "torch.Size([60000, 10])\n",
      "Epoch - 4, loss - 1.61705 \n",
      "torch.Size([60000, 16, 12, 12])\n",
      "torch.Size([60000, 32, 4, 4])\n",
      "torch.Size([60000, 512])\n",
      "torch.Size([60000, 10])\n",
      "Epoch - 5, loss - 1.45187 \n",
      "torch.Size([60000, 16, 12, 12])\n",
      "torch.Size([60000, 32, 4, 4])\n",
      "torch.Size([60000, 512])\n",
      "torch.Size([60000, 10])\n",
      "Epoch - 6, loss - 1.16191 \n",
      "torch.Size([60000, 16, 12, 12])\n",
      "torch.Size([60000, 32, 4, 4])\n",
      "torch.Size([60000, 512])\n",
      "torch.Size([60000, 10])\n",
      "Epoch - 7, loss - 1.01524 \n",
      "torch.Size([60000, 16, 12, 12])\n",
      "torch.Size([60000, 32, 4, 4])\n",
      "torch.Size([60000, 512])\n",
      "torch.Size([60000, 10])\n",
      "Epoch - 8, loss - 0.77816 \n",
      "torch.Size([60000, 16, 12, 12])\n",
      "torch.Size([60000, 32, 4, 4])\n",
      "torch.Size([60000, 512])\n",
      "torch.Size([60000, 10])\n",
      "Epoch - 9, loss - 0.67372 \n",
      "torch.Size([60000, 16, 12, 12])\n",
      "torch.Size([60000, 32, 4, 4])\n",
      "torch.Size([60000, 512])\n",
      "torch.Size([60000, 10])\n",
      "Epoch - 10, loss - 0.60677 \n",
      "torch.Size([60000, 16, 12, 12])\n",
      "torch.Size([60000, 32, 4, 4])\n",
      "torch.Size([60000, 512])\n",
      "torch.Size([60000, 10])\n",
      "Epoch - 11, loss - 0.56452 \n",
      "torch.Size([60000, 16, 12, 12])\n",
      "torch.Size([60000, 32, 4, 4])\n",
      "torch.Size([60000, 512])\n",
      "torch.Size([60000, 10])\n",
      "Epoch - 12, loss - 0.53594 \n",
      "torch.Size([60000, 16, 12, 12])\n",
      "torch.Size([60000, 32, 4, 4])\n",
      "torch.Size([60000, 512])\n",
      "torch.Size([60000, 10])\n",
      "Epoch - 13, loss - 0.48987 \n",
      "torch.Size([60000, 16, 12, 12])\n",
      "torch.Size([60000, 32, 4, 4])\n",
      "torch.Size([60000, 512])\n",
      "torch.Size([60000, 10])\n",
      "Epoch - 14, loss - 0.43589 \n",
      "torch.Size([60000, 16, 12, 12])\n",
      "torch.Size([60000, 32, 4, 4])\n",
      "torch.Size([60000, 512])\n",
      "torch.Size([60000, 10])\n",
      "Epoch - 15, loss - 0.39543 \n",
      "torch.Size([60000, 16, 12, 12])\n",
      "torch.Size([60000, 32, 4, 4])\n",
      "torch.Size([60000, 512])\n",
      "torch.Size([60000, 10])\n",
      "Epoch - 16, loss - 0.37736 \n",
      "torch.Size([60000, 16, 12, 12])\n",
      "torch.Size([60000, 32, 4, 4])\n",
      "torch.Size([60000, 512])\n",
      "torch.Size([60000, 10])\n",
      "Epoch - 17, loss - 0.36753 \n",
      "torch.Size([60000, 16, 12, 12])\n",
      "torch.Size([60000, 32, 4, 4])\n",
      "torch.Size([60000, 512])\n",
      "torch.Size([60000, 10])\n",
      "Epoch - 18, loss - 0.34695 \n",
      "torch.Size([60000, 16, 12, 12])\n",
      "torch.Size([60000, 32, 4, 4])\n",
      "torch.Size([60000, 512])\n",
      "torch.Size([60000, 10])\n",
      "Epoch - 19, loss - 0.31816 \n",
      "torch.Size([60000, 16, 12, 12])\n",
      "torch.Size([60000, 32, 4, 4])\n",
      "torch.Size([60000, 512])\n",
      "torch.Size([60000, 10])\n",
      "Epoch - 20, loss - 0.29592 \n",
      "torch.Size([60000, 16, 12, 12])\n",
      "torch.Size([60000, 32, 4, 4])\n",
      "torch.Size([60000, 512])\n",
      "torch.Size([60000, 10])\n",
      "Epoch - 21, loss - 0.28462 \n",
      "torch.Size([60000, 16, 12, 12])\n",
      "torch.Size([60000, 32, 4, 4])\n",
      "torch.Size([60000, 512])\n",
      "torch.Size([60000, 10])\n",
      "Epoch - 22, loss - 0.27739 \n",
      "torch.Size([60000, 16, 12, 12])\n",
      "torch.Size([60000, 32, 4, 4])\n",
      "torch.Size([60000, 512])\n",
      "torch.Size([60000, 10])\n",
      "Epoch - 23, loss - 0.26782 \n",
      "torch.Size([60000, 16, 12, 12])\n",
      "torch.Size([60000, 32, 4, 4])\n",
      "torch.Size([60000, 512])\n",
      "torch.Size([60000, 10])\n",
      "Epoch - 24, loss - 0.25506 \n",
      "torch.Size([60000, 16, 12, 12])\n",
      "torch.Size([60000, 32, 4, 4])\n",
      "torch.Size([60000, 512])\n",
      "torch.Size([60000, 10])\n",
      "Epoch - 25, loss - 0.24073 \n",
      "torch.Size([60000, 16, 12, 12])\n",
      "torch.Size([60000, 32, 4, 4])\n",
      "torch.Size([60000, 512])\n",
      "torch.Size([60000, 10])\n",
      "Epoch - 26, loss - 0.22627 \n",
      "torch.Size([60000, 16, 12, 12])\n",
      "torch.Size([60000, 32, 4, 4])\n",
      "torch.Size([60000, 512])\n",
      "torch.Size([60000, 10])\n",
      "Epoch - 27, loss - 0.21295 \n",
      "torch.Size([60000, 16, 12, 12])\n",
      "torch.Size([60000, 32, 4, 4])\n",
      "torch.Size([60000, 512])\n",
      "torch.Size([60000, 10])\n",
      "Epoch - 28, loss - 0.20211 \n",
      "torch.Size([60000, 16, 12, 12])\n",
      "torch.Size([60000, 32, 4, 4])\n",
      "torch.Size([60000, 512])\n",
      "torch.Size([60000, 10])\n",
      "Epoch - 29, loss - 0.19462 \n",
      "torch.Size([60000, 16, 12, 12])\n",
      "torch.Size([60000, 32, 4, 4])\n",
      "torch.Size([60000, 512])\n",
      "torch.Size([60000, 10])\n",
      "Epoch - 30, loss - 0.19006 \n",
      "torch.Size([60000, 16, 12, 12])\n",
      "torch.Size([60000, 32, 4, 4])\n",
      "torch.Size([60000, 512])\n",
      "torch.Size([60000, 10])\n",
      "Epoch - 31, loss - 0.18681 \n",
      "torch.Size([60000, 16, 12, 12])\n",
      "torch.Size([60000, 32, 4, 4])\n",
      "torch.Size([60000, 512])\n",
      "torch.Size([60000, 10])\n",
      "Epoch - 32, loss - 0.18283 \n",
      "torch.Size([60000, 16, 12, 12])\n",
      "torch.Size([60000, 32, 4, 4])\n",
      "torch.Size([60000, 512])\n",
      "torch.Size([60000, 10])\n",
      "Epoch - 33, loss - 0.17696 \n",
      "torch.Size([60000, 16, 12, 12])\n",
      "torch.Size([60000, 32, 4, 4])\n",
      "torch.Size([60000, 512])\n",
      "torch.Size([60000, 10])\n",
      "Epoch - 34, loss - 0.16951 \n",
      "torch.Size([60000, 16, 12, 12])\n",
      "torch.Size([60000, 32, 4, 4])\n",
      "torch.Size([60000, 512])\n",
      "torch.Size([60000, 10])\n",
      "Epoch - 35, loss - 0.16182 \n",
      "torch.Size([60000, 16, 12, 12])\n",
      "torch.Size([60000, 32, 4, 4])\n",
      "torch.Size([60000, 512])\n",
      "torch.Size([60000, 10])\n",
      "Epoch - 36, loss - 0.15512 \n",
      "torch.Size([60000, 16, 12, 12])\n",
      "torch.Size([60000, 32, 4, 4])\n",
      "torch.Size([60000, 512])\n",
      "torch.Size([60000, 10])\n",
      "Epoch - 37, loss - 0.14987 \n",
      "torch.Size([60000, 16, 12, 12])\n",
      "torch.Size([60000, 32, 4, 4])\n",
      "torch.Size([60000, 512])\n",
      "torch.Size([60000, 10])\n",
      "Epoch - 38, loss - 0.14573 \n",
      "torch.Size([60000, 16, 12, 12])\n",
      "torch.Size([60000, 32, 4, 4])\n",
      "torch.Size([60000, 512])\n",
      "torch.Size([60000, 10])\n",
      "Epoch - 39, loss - 0.14211 \n",
      "torch.Size([60000, 16, 12, 12])\n",
      "torch.Size([60000, 32, 4, 4])\n",
      "torch.Size([60000, 512])\n",
      "torch.Size([60000, 10])\n",
      "Epoch - 40, loss - 0.13855 \n",
      "torch.Size([60000, 16, 12, 12])\n",
      "torch.Size([60000, 32, 4, 4])\n",
      "torch.Size([60000, 512])\n",
      "torch.Size([60000, 10])\n",
      "Epoch - 41, loss - 0.13488 \n",
      "torch.Size([60000, 16, 12, 12])\n",
      "torch.Size([60000, 32, 4, 4])\n",
      "torch.Size([60000, 512])\n",
      "torch.Size([60000, 10])\n",
      "Epoch - 42, loss - 0.13108 \n",
      "torch.Size([60000, 16, 12, 12])\n",
      "torch.Size([60000, 32, 4, 4])\n",
      "torch.Size([60000, 512])\n",
      "torch.Size([60000, 10])\n",
      "Epoch - 43, loss - 0.12723 \n",
      "torch.Size([60000, 16, 12, 12])\n",
      "torch.Size([60000, 32, 4, 4])\n",
      "torch.Size([60000, 512])\n",
      "torch.Size([60000, 10])\n",
      "Epoch - 44, loss - 0.12346 \n",
      "torch.Size([60000, 16, 12, 12])\n",
      "torch.Size([60000, 32, 4, 4])\n",
      "torch.Size([60000, 512])\n",
      "torch.Size([60000, 10])\n",
      "Epoch - 45, loss - 0.11997 \n",
      "torch.Size([60000, 16, 12, 12])\n",
      "torch.Size([60000, 32, 4, 4])\n",
      "torch.Size([60000, 512])\n",
      "torch.Size([60000, 10])\n",
      "Epoch - 46, loss - 0.11693 \n",
      "torch.Size([60000, 16, 12, 12])\n",
      "torch.Size([60000, 32, 4, 4])\n",
      "torch.Size([60000, 512])\n",
      "torch.Size([60000, 10])\n",
      "Epoch - 47, loss - 0.11438 \n",
      "torch.Size([60000, 16, 12, 12])\n",
      "torch.Size([60000, 32, 4, 4])\n",
      "torch.Size([60000, 512])\n",
      "torch.Size([60000, 10])\n",
      "Epoch - 48, loss - 0.11213 \n",
      "torch.Size([60000, 16, 12, 12])\n",
      "torch.Size([60000, 32, 4, 4])\n",
      "torch.Size([60000, 512])\n",
      "torch.Size([60000, 10])\n",
      "Epoch - 49, loss - 0.10986 \n"
     ]
    }
   ],
   "source": [
    "for epoch in range(1, num_epochs):\n",
    "\n",
    "    outputs = model(X_train_tensor)\n",
    "    loss = criterion(outputs, Y_train_tensor)\n",
    "\n",
    "    optimizer.zero_grad()\n",
    "    loss.backward()\n",
    "    optimizer.step()\n",
    "\n",
    "    print('Epoch - %d, loss - %0.5f ' %(epoch, loss.item()))\n",
    "    loss_values.append(loss.item())"
   ]
  },
  {
   "cell_type": "markdown",
   "metadata": {},
   "source": [
    "Padding = 0\n",
    "\n",
    "Stride = 1\n",
    "\n",
    "Size of output = 24 x 24 => Pool => 12 x 12\n",
    "\n",
    "Second convolutional layer\n",
    "32 depth, size of output = 8 x 8 => Pool => 4 x 4\n",
    "\n",
    "=> 32 x 4 x 4 = 512"
   ]
  },
  {
   "cell_type": "code",
   "execution_count": 28,
   "metadata": {},
   "outputs": [
    {
     "data": {
      "text/plain": [
       "Text(0, 0.5, 'loss')"
      ]
     },
     "execution_count": 28,
     "metadata": {},
     "output_type": "execute_result"
    },
    {
     "data": {
      "image/png": "[encoded data removed]",
      "text/plain": [
       "<Figure size 720x720 with 1 Axes>"
      ]
     },
     "metadata": {
      "needs_background": "light"
     },
     "output_type": "display_data"
    }
   ],
   "source": [
    "x = (range(0, num_epochs - 1))\n",
    "\n",
    "plt.figure(figsize=(10,10))\n",
    "plt.plot(x, loss_values)\n",
    "plt.xlabel('epoch')\n",
    "plt.ylabel('loss')"
   ]
  },
  {
   "cell_type": "code",
   "execution_count": 29,
   "metadata": {},
   "outputs": [
    {
     "data": {
      "text/plain": [
       "ConvNet(\n",
       "  (layer1): Sequential(\n",
       "    (0): Conv2d(1, 16, kernel_size=(5, 5), stride=(1, 1))\n",
       "    (1): BatchNorm2d(16, eps=1e-05, momentum=0.1, affine=True, track_running_stats=True)\n",
       "    (2): ReLU()\n",
       "    (3): MaxPool2d(kernel_size=2, stride=2, padding=0, dilation=1, ceil_mode=False)\n",
       "  )\n",
       "  (layer2): Sequential(\n",
       "    (0): Conv2d(16, 32, kernel_size=(5, 5), stride=(1, 1))\n",
       "    (1): BatchNorm2d(32, eps=1e-05, momentum=0.1, affine=True, track_running_stats=True)\n",
       "    (2): ReLU()\n",
       "    (3): MaxPool2d(kernel_size=2, stride=2, padding=0, dilation=1, ceil_mode=False)\n",
       "  )\n",
       "  (fc): Linear(in_features=512, out_features=10, bias=True)\n",
       ")"
      ]
     },
     "execution_count": 29,
     "metadata": {},
     "output_type": "execute_result"
    }
   ],
   "source": [
    "model.eval()"
   ]
  },
  {
   "cell_type": "code",
   "execution_count": 30,
   "metadata": {},
   "outputs": [],
   "source": [
    "from sklearn.metrics import accuracy_score, precision_score, recall_score"
   ]
  },
  {
   "cell_type": "code",
   "execution_count": 31,
   "metadata": {},
   "outputs": [
    {
     "name": "stdout",
     "output_type": "stream",
     "text": [
      "torch.Size([10000, 16, 12, 12])\n",
      "torch.Size([10000, 32, 4, 4])\n",
      "torch.Size([10000, 512])\n",
      "torch.Size([10000, 10])\n",
      "Accuracy:  0.9701\n",
      "Precision:  0.970316885664354\n",
      "Recall;  0.9701\n"
     ]
    }
   ],
   "source": [
    "with torch.no_grad():\n",
    "    \n",
    "    correct = 0\n",
    "    total = 0\n",
    "    \n",
    "    outputs = model(x_test_tensor)\n",
    "    _, predicted = torch.max(outputs, 1)\n",
    "    \n",
    "    y_test = y_test_tensor.cpu().numpy()\n",
    "    predicted = predicted.cpu()\n",
    "    \n",
    "    print('Accuracy: ', accuracy_score(predicted, y_test))\n",
    "    print('Precision: ', precision_score(predicted, y_test, average='weighted'))\n",
    "    print('Recall; ', recall_score(predicted, y_test, average='weighted'))"
   ]
  },
  {
   "cell_type": "code",
   "execution_count": null,
   "metadata": {},
   "outputs": [],
   "source": []
  },
  {
   "cell_type": "code",
   "execution_count": null,
   "metadata": {},
   "outputs": [],
   "source": []
  },
  {
   "cell_type": "code",
   "execution_count": null,
   "metadata": {},
   "outputs": [],
   "source": []
  },
  {
   "cell_type": "code",
   "execution_count": null,
   "metadata": {},
   "outputs": [],
   "source": []
  },
  {
   "cell_type": "code",
   "execution_count": null,
   "metadata": {},
   "outputs": [],
   "source": []
  },
  {
   "cell_type": "code",
   "execution_count": null,
   "metadata": {},
   "outputs": [],
   "source": []
  },
  {
   "cell_type": "code",
   "execution_count": null,
   "metadata": {},
   "outputs": [],
   "source": []
  },
  {
   "cell_type": "code",
   "execution_count": null,
   "metadata": {},
   "outputs": [],
   "source": []
  },
  {
   "cell_type": "code",
   "execution_count": null,
   "metadata": {},
   "outputs": [],
   "source": []
  },
  {
   "cell_type": "code",
   "execution_count": null,
   "metadata": {},
   "outputs": [],
   "source": []
  },
  {
   "cell_type": "code",
   "execution_count": null,
   "metadata": {},
   "outputs": [],
   "source": []
  },
  {
   "cell_type": "code",
   "execution_count": null,
   "metadata": {},
   "outputs": [],
   "source": []
  }
 ],
 "metadata": {
  "kernelspec": {
   "display_name": "Python 3",
   "language": "python",
   "name": "python3"
  },
  "language_info": {
   "codemirror_mode": {
    "name": "ipython",
    "version": 3
   },
   "file_extension": ".py",
   "mimetype": "text/x-python",
   "name": "python",
   "nbconvert_exporter": "python",
   "pygments_lexer": "ipython3",
   "version": "3.8.5"
  }
 },
 "nbformat": 4,
 "nbformat_minor": 4
}
